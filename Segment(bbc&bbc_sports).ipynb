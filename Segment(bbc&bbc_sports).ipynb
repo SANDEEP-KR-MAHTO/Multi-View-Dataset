{
  "nbformat": 4,
  "nbformat_minor": 0,
  "metadata": {
    "colab": {
      "provenance": []
    },
    "kernelspec": {
      "name": "python3",
      "display_name": "Python 3"
    },
    "language_info": {
      "name": "python"
    }
  },
  "cells": [
    {
      "cell_type": "code",
      "source": [
        "from google.colab import drive\n",
        "drive.mount('/content/drive')"
      ],
      "metadata": {
        "colab": {
          "base_uri": "https://localhost:8080/"
        },
        "id": "JVZGf5SG8ibj",
        "outputId": "3420c60e-0b16-4c8f-ccba-4683d0df9e52"
      },
      "execution_count": 1,
      "outputs": [
        {
          "output_type": "stream",
          "name": "stdout",
          "text": [
            "Mounted at /content/drive\n"
          ]
        }
      ]
    },
    {
      "cell_type": "code",
      "execution_count": 4,
      "metadata": {
        "colab": {
          "base_uri": "https://localhost:8080/"
        },
        "id": "uNI38FWn8WDx",
        "outputId": "1c3395de-bb2c-4349-e4c7-e954f1fdf801"
      },
      "outputs": [
        {
          "output_type": "stream",
          "name": "stdout",
          "text": [
            "Converted bbcsport_seg1of2.mtx → /content/drive/MyDrive/Dataset_for_me/bbcsport/bbcsport_seg1of2.csv\n",
            "Converted bbcsport_seg3of3.mtx → /content/drive/MyDrive/Dataset_for_me/bbcsport/bbcsport_seg3of3.csv\n",
            "Converted bbcsport_seg2of2.mtx → /content/drive/MyDrive/Dataset_for_me/bbcsport/bbcsport_seg2of2.csv\n",
            "Converted bbcsport_seg3of4.mtx → /content/drive/MyDrive/Dataset_for_me/bbcsport/bbcsport_seg3of4.csv\n",
            "Converted bbcsport_seg2of3.mtx → /content/drive/MyDrive/Dataset_for_me/bbcsport/bbcsport_seg2of3.csv\n",
            "Converted bbcsport_seg4of4.mtx → /content/drive/MyDrive/Dataset_for_me/bbcsport/bbcsport_seg4of4.csv\n",
            "Converted bbcsport_seg2of4.mtx → /content/drive/MyDrive/Dataset_for_me/bbcsport/bbcsport_seg2of4.csv\n",
            "Converted bbcsport_seg1of3.mtx → /content/drive/MyDrive/Dataset_for_me/bbcsport/bbcsport_seg1of3.csv\n",
            "Converted bbcsport_seg1of4.mtx → /content/drive/MyDrive/Dataset_for_me/bbcsport/bbcsport_seg1of4.csv\n"
          ]
        }
      ],
      "source": [
        "import os\n",
        "import pandas as pd\n",
        "from scipy.io import mmread\n",
        "\n",
        "def convert_mtx_to_csv(folder):\n",
        "    # Loop through all files in the folder\n",
        "    for file in os.listdir(folder):\n",
        "        if file.endswith(\".mtx\"):\n",
        "            mtx_path = os.path.join(folder, file)\n",
        "\n",
        "            # Build corresponding .terms and .docs file paths\n",
        "            base_name = file.replace(\".mtx\", \"\")\n",
        "            terms_path = os.path.join(folder, base_name + \".terms\")\n",
        "            docs_path = os.path.join(folder, base_name + \".docs\")\n",
        "\n",
        "\n",
        "            mat = mmread(mtx_path).tocsr()\n",
        "\n",
        "\n",
        "            with open(terms_path, \"r\", encoding=\"utf-8\") as f:\n",
        "                terms = [line.strip() for line in f.readlines()]\n",
        "            with open(docs_path, \"r\", encoding=\"utf-8\") as f:\n",
        "                docs = [line.strip() for line in f.readlines()]\n",
        "\n",
        "\n",
        "            df = pd.DataFrame(mat.toarray(), index=terms, columns=docs)\n",
        "\n",
        "\n",
        "            df = df.T\n",
        "\n",
        "\n",
        "            csv_path = os.path.join(folder, base_name + \".csv\")\n",
        "            df.to_csv(csv_path, index=True)\n",
        "\n",
        "            print(f\"Converted {file} → {csv_path}\")\n",
        "\n",
        "\n",
        "convert_mtx_to_csv(\"/content/drive/MyDrive/Dataset_for_me/bbcsport\")\n",
        "\n"
      ]
    },
    {
      "cell_type": "code",
      "source": [],
      "metadata": {
        "id": "zcroWHFf9Kf5"
      },
      "execution_count": null,
      "outputs": []
    }
  ]
}