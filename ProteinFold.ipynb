{
  "nbformat": 4,
  "nbformat_minor": 0,
  "metadata": {
    "colab": {
      "provenance": []
    },
    "kernelspec": {
      "name": "python3",
      "display_name": "Python 3"
    },
    "language_info": {
      "name": "python"
    }
  },
  "cells": [
    {
      "cell_type": "code",
      "source": [
        "from google.colab import drive\n",
        "drive.mount('/content/drive')"
      ],
      "metadata": {
        "colab": {
          "base_uri": "https://localhost:8080/"
        },
        "id": "JVZGf5SG8ibj",
        "outputId": "3b1fcfce-116d-4777-b674-6c65e13b4d14"
      },
      "execution_count": 24,
      "outputs": [
        {
          "output_type": "stream",
          "name": "stdout",
          "text": [
            "Drive already mounted at /content/drive; to attempt to forcibly remount, call drive.mount(\"/content/drive\", force_remount=True).\n"
          ]
        }
      ]
    },
    {
      "cell_type": "code",
      "source": [
        "import numpy as np\n",
        "import pandas as pd\n",
        "import os\n",
        "from scipy.io import loadmat"
      ],
      "metadata": {
        "id": "CtnrCoNCuJYd"
      },
      "execution_count": 26,
      "outputs": []
    },
    {
      "cell_type": "code",
      "source": [
        "def _pick_label_key(keys):\n",
        "    candidates = ['labels', 'label', 'gt', 'gnd', 'Y', 'truth', 'truelabel','y']\n",
        "    for c in candidates:\n",
        "        if c in keys:\n",
        "            return c\n",
        "    return None\n",
        "\n",
        "def load_multiview_mat(mat_path, verbose=True, save_csv=True, out_dir=None):\n",
        "    views, labels = [], None\n",
        "\n",
        "    mat = loadmat(mat_path)\n",
        "    keys = [k for k in mat.keys() if not k.startswith(\"__\")]\n",
        "    if verbose: print(\"[scipy] keys:\", keys)\n",
        "\n",
        "    # Find a container for multi-view data\n",
        "    data_key = None\n",
        "    for cand in ['data', 'views', 'X', 'fea']:\n",
        "        if cand in keys:\n",
        "            data_key = cand\n",
        "            break\n",
        "\n",
        "    if data_key is not None:\n",
        "        container = mat[data_key]\n",
        "        # Case A: cell array -> numpy object array\n",
        "        if isinstance(container, np.ndarray) and container.dtype == object:\n",
        "            cells = container.ravel().tolist()\n",
        "            first = np.array(cells[0])\n",
        "            n = max(first.shape)\n",
        "            for c in cells:\n",
        "                arr = np.array(c)\n",
        "                views.append(arr)\n",
        "\n",
        "        else:\n",
        "            raise ValueError(f\"Unsupported container type for '{data_key}'.\")\n",
        "\n",
        "    # Labels\n",
        "    lab_key = _pick_label_key(keys)\n",
        "    if lab_key is not None:\n",
        "        labels = np.array(mat[lab_key]).squeeze().astype(int)\n",
        "\n",
        "    # Verbose summary\n",
        "    if verbose:\n",
        "        for i, X in enumerate(views):\n",
        "            print(f\"  view{i+1} shape: {X.shape}\")\n",
        "        if labels is not None:\n",
        "            print(f\"  labels shape: {labels.shape}\")\n",
        "\n",
        "    # SAVE CSV FILES\n",
        "    if save_csv:\n",
        "        if out_dir is None:\n",
        "            out_dir = os.path.dirname(mat_path)\n",
        "        os.makedirs(out_dir, exist_ok=True)\n",
        "\n",
        "        for i, X in enumerate(views):\n",
        "            df = pd.DataFrame(X)\n",
        "            if labels is not None:\n",
        "                df[\"label\"] = labels  # append label column\n",
        "            csv_path = os.path.join(out_dir, f\"ProteinFoldld_view{i+1}.csv\")\n",
        "            df.to_csv(csv_path, index=False)\n",
        "            print(f\"Saved: {csv_path}\")\n",
        "\n",
        "        # Save labels separately too\n",
        "        if labels is not None:\n",
        "            labels_df = pd.DataFrame(labels, columns=[\"label\"])\n",
        "            labels_path = os.path.join(out_dir, \"ProteinFold_labels.csv\")\n",
        "            labels_df.to_csv(labels_path, index=False)\n",
        "            print(f\"Saved: {labels_path}\")\n",
        "\n",
        "    return views, labels\n",
        "\n",
        "\n"
      ],
      "metadata": {
        "id": "VQvP7SxCwJYL"
      },
      "execution_count": 40,
      "outputs": []
    },
    {
      "cell_type": "code",
      "source": [
        "views, labels = load_multiview_mat('/content/ProteinFold.mat', verbose=True, save_csv=True)"
      ],
      "metadata": {
        "colab": {
          "base_uri": "https://localhost:8080/"
        },
        "id": "nmLQ2fjIwgzD",
        "outputId": "5a09dc65-8a13-4861-90e7-85095d2a946c"
      },
      "execution_count": 41,
      "outputs": [
        {
          "output_type": "stream",
          "name": "stdout",
          "text": [
            "[scipy] keys: ['X', 'y']\n",
            "  view1 shape: (694, 27)\n",
            "  view2 shape: (694, 27)\n",
            "  view3 shape: (694, 27)\n",
            "  view4 shape: (694, 27)\n",
            "  view5 shape: (694, 27)\n",
            "  view6 shape: (694, 27)\n",
            "  view7 shape: (694, 27)\n",
            "  view8 shape: (694, 27)\n",
            "  view9 shape: (694, 27)\n",
            "  view10 shape: (694, 27)\n",
            "  view11 shape: (694, 27)\n",
            "  view12 shape: (694, 27)\n",
            "  labels shape: (694,)\n",
            "Saved: /content/ProteinFoldld_view1.csv\n",
            "Saved: /content/ProteinFoldld_view2.csv\n",
            "Saved: /content/ProteinFoldld_view3.csv\n",
            "Saved: /content/ProteinFoldld_view4.csv\n",
            "Saved: /content/ProteinFoldld_view5.csv\n",
            "Saved: /content/ProteinFoldld_view6.csv\n",
            "Saved: /content/ProteinFoldld_view7.csv\n",
            "Saved: /content/ProteinFoldld_view8.csv\n",
            "Saved: /content/ProteinFoldld_view9.csv\n",
            "Saved: /content/ProteinFoldld_view10.csv\n",
            "Saved: /content/ProteinFoldld_view11.csv\n",
            "Saved: /content/ProteinFoldld_view12.csv\n",
            "Saved: /content/ProteinFold_labels.csv\n"
          ]
        }
      ]
    },
    {
      "cell_type": "code",
      "source": [],
      "metadata": {
        "id": "EUD_nyH5yFWi"
      },
      "execution_count": null,
      "outputs": []
    }
  ]
}