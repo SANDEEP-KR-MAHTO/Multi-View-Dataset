{
  "nbformat": 4,
  "nbformat_minor": 0,
  "metadata": {
    "colab": {
      "provenance": []
    },
    "kernelspec": {
      "name": "python3",
      "display_name": "Python 3"
    },
    "language_info": {
      "name": "python"
    }
  },
  "cells": [
    {
      "cell_type": "code",
      "source": [
        "from google.colab import drive\n",
        "drive.mount('/content/drive')"
      ],
      "metadata": {
        "colab": {
          "base_uri": "https://localhost:8080/"
        },
        "id": "JVZGf5SG8ibj",
        "outputId": "3420c60e-0b16-4c8f-ccba-4683d0df9e52"
      },
      "execution_count": null,
      "outputs": [
        {
          "output_type": "stream",
          "name": "stdout",
          "text": [
            "Mounted at /content/drive\n"
          ]
        }
      ]
    },
    {
      "cell_type": "code",
      "execution_count": 5,
      "metadata": {
        "colab": {
          "base_uri": "https://localhost:8080/"
        },
        "id": "uNI38FWn8WDx",
        "outputId": "722e807f-e850-44a2-b9e7-c013eb963432"
      },
      "outputs": [
        {
          "output_type": "stream",
          "name": "stdout",
          "text": [
            "Processing 3sources_reuters.mtx: 3068 terms × 294 docs\n",
            "Saved /content/drive/MyDrive/Dataset_for_me/3sources/3sources_reuters.csv\n",
            "Processing 3sources_guardian.mtx: 3631 terms × 302 docs\n",
            "Saved /content/drive/MyDrive/Dataset_for_me/3sources/3sources_guardian.csv\n",
            "Processing 3sources_bbc.mtx: 3560 terms × 352 docs\n",
            "Saved /content/drive/MyDrive/Dataset_for_me/3sources/3sources_bbc.csv\n"
          ]
        }
      ],
      "source": [
        "import os\n",
        "import pandas as pd\n",
        "from scipy.io import mmread\n",
        "\n",
        "def convert_3sources_to_csv(folder):\n",
        "\n",
        "    for file in os.listdir(folder):\n",
        "        if file.endswith(\".mtx\"):\n",
        "            mtx_path = os.path.join(folder, file)\n",
        "\n",
        "\n",
        "            base_name = file.replace(\".mtx\", \"\")\n",
        "\n",
        "\n",
        "            terms_path = os.path.join(folder, base_name + \".terms\")\n",
        "            docs_path = os.path.join(folder, base_name + \".docs\")\n",
        "\n",
        "\n",
        "            mat = mmread(mtx_path).tocsr()\n",
        "\n",
        "\n",
        "            with open(terms_path, \"r\", encoding=\"utf-8\") as f:\n",
        "                terms = [line.strip() for line in f]\n",
        "\n",
        "\n",
        "            with open(docs_path, \"r\", encoding=\"utf-8\") as f:\n",
        "                docs = [line.strip() for line in f]\n",
        "\n",
        "\n",
        "            print(f\"Processing {file}: {mat.shape[0]} terms × {mat.shape[1]} docs\")\n",
        "\n",
        "\n",
        "            df = pd.DataFrame(mat.toarray(), index=terms, columns=docs).T\n",
        "\n",
        "\n",
        "            csv_path = os.path.join(folder, base_name + \".csv\")\n",
        "            df.to_csv(csv_path, index=True)\n",
        "\n",
        "            print(f\"Saved {csv_path}\")\n",
        "\n",
        "\n",
        "convert_3sources_to_csv(\"/content/drive/MyDrive/Dataset_for_me/3sources\")\n"
      ]
    },
    {
      "cell_type": "code",
      "source": [],
      "metadata": {
        "id": "zcroWHFf9Kf5"
      },
      "execution_count": null,
      "outputs": []
    }
  ]
}