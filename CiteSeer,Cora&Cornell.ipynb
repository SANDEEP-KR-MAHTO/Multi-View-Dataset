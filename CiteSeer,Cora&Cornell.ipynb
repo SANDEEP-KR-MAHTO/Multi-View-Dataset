{
  "nbformat": 4,
  "nbformat_minor": 0,
  "metadata": {
    "colab": {
      "provenance": []
    },
    "kernelspec": {
      "name": "python3",
      "display_name": "Python 3"
    },
    "language_info": {
      "name": "python"
    }
  },
  "cells": [
    {
      "cell_type": "code",
      "execution_count": null,
      "metadata": {
        "colab": {
          "base_uri": "https://localhost:8080/"
        },
        "id": "XdBQ8wH2YV_j",
        "outputId": "ae7be543-878d-4bd6-c3bf-6e8a4f4c27f8"
      },
      "outputs": [
        {
          "output_type": "stream",
          "name": "stdout",
          "text": [
            "Shapes:\n",
            "content: (195, 1703)\n",
            "inbound: (195, 195)\n",
            "outbound: (195, 195)\n",
            "cites: (195, 195)\n",
            "✅ Conversion complete! CSV files saved:\n",
            "cornell_content.csv, cornell_inbound.csv, cornell_outbound.csv, cornell_cites.csv\n"
          ]
        }
      ],
      "source": [
        "import pandas as pd\n",
        "import numpy as np\n",
        "from scipy.io import mmread\n",
        "\n",
        "# === Step 1: Load matrices ===\n",
        "content = mmread(\"cornell_content.mtx\").tocsr()    # shape: (3312, 3703)\n",
        "inbound = mmread(\"cornell_inbound.mtx\").tocsr()    # shape: (3312, 3312)\n",
        "outbound = mmread(\"cornell_outbound.mtx\").tocsr()  # shape: (3312, 3312)\n",
        "cites = mmread(\"cornell_cites.mtx\").tocsr()        # shape: (3312, 3312)\n",
        "\n",
        "print(\"Shapes:\")\n",
        "print(\"content:\", content.shape)\n",
        "print(\"inbound:\", inbound.shape)\n",
        "print(\"outbound:\", outbound.shape)\n",
        "print(\"cites:\", cites.shape)\n",
        "\n",
        "# === Step 2: Load labels ===\n",
        "labels = pd.read_csv(\"cornell_act.txt\", header=None, sep=r\"\\s+\")[0].values  # document label indices\n",
        "label_names = pd.read_csv(\"labels.txt\", header=None)[0].values           # actual label names\n",
        "\n",
        "# Map numeric labels to text\n",
        "labels_text = [label_names[i-1] for i in labels]\n",
        "\n",
        "# === Step 3: Convert to DataFrames ===\n",
        "df_content = pd.DataFrame(content.toarray())\n",
        "df_content[\"label\"] = labels_text\n",
        "\n",
        "df_inbound = pd.DataFrame(inbound.toarray())\n",
        "df_inbound[\"label\"] = labels_text\n",
        "\n",
        "df_outbound = pd.DataFrame(outbound.toarray())\n",
        "df_outbound[\"label\"] = labels_text\n",
        "\n",
        "df_cites = pd.DataFrame(cites.toarray())\n",
        "df_cites[\"label\"] = labels_text\n",
        "\n",
        "# === Step 4: Save to CSV ===\n",
        "df_content.to_csv(\"cornell_content.csv\", index=False)\n",
        "df_inbound.to_csv(\"cornell_inbound.csv\", index=False)\n",
        "df_outbound.to_csv(\"cornell_outbound.csv\", index=False)\n",
        "df_cites.to_csv(\"cornell_cites.csv\", index=False)\n",
        "\n",
        "print(\"✅ Conversion complete! CSV files saved:\")\n",
        "print(\"cornell_content.csv, cornell_inbound.csv, cornell_outbound.csv, cornell_cites.csv\")\n"
      ]
    },
    {
      "cell_type": "code",
      "source": [],
      "metadata": {
        "id": "_GOk35ArZIqM"
      },
      "execution_count": null,
      "outputs": []
    }
  ]
}