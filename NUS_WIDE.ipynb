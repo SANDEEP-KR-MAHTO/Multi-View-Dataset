{
  "nbformat": 4,
  "nbformat_minor": 0,
  "metadata": {
    "colab": {
      "provenance": []
    },
    "kernelspec": {
      "name": "python3",
      "display_name": "Python 3"
    },
    "language_info": {
      "name": "python"
    }
  },
  "cells": [
    {
      "cell_type": "code",
      "source": [
        "from google.colab import drive\n",
        "drive.mount('/content/drive')"
      ],
      "metadata": {
        "colab": {
          "base_uri": "https://localhost:8080/"
        },
        "id": "JVZGf5SG8ibj",
        "outputId": "d58f65b6-7835-4a90-87ae-c5f659e8880b"
      },
      "execution_count": 13,
      "outputs": [
        {
          "output_type": "stream",
          "name": "stdout",
          "text": [
            "Mounted at /content/drive\n"
          ]
        }
      ]
    },
    {
      "cell_type": "code",
      "source": [
        "import numpy as np\n",
        "import pandas as pd\n",
        "import os\n",
        "from scipy.io import loadmat"
      ],
      "metadata": {
        "id": "CtnrCoNCuJYd"
      },
      "execution_count": 3,
      "outputs": []
    },
    {
      "cell_type": "code",
      "source": [
        "def load_multiview_mat(path, verbose=True, save_csv=True, out_dir=None):\n",
        "    data = []\n",
        "    mat = loadmat(path)\n",
        "    keys = [k for k in mat.keys() if not k.startswith(\"__\")]\n",
        "    if verbose: print(\"[scipy] keys:\", keys)\n",
        "\n",
        "    data_refs = mat[\"X\"]\n",
        "    for i in range(data_refs.shape[0]):\n",
        "        arr = np.array(data_refs[i][0])   # extract view\n",
        "        data.append(arr)\n",
        "\n",
        "    labels = np.array(mat[\"y\"]).squeeze().astype(int)\n",
        "\n",
        "    if verbose:\n",
        "        for i, X in enumerate(data):\n",
        "            print(f\"  view{i+1} shape: {X.shape}\")\n",
        "        if labels is not None:\n",
        "            print(f\"  labels shape: {labels.shape}\")\n",
        "\n",
        "    # === Save each view as CSV ===\n",
        "    if save_csv:\n",
        "        if out_dir is None:\n",
        "            out_dir = os.path.dirname(path)\n",
        "        os.makedirs(out_dir, exist_ok=True)\n",
        "\n",
        "        for i, view in enumerate(data, start=1):\n",
        "            df = pd.DataFrame(view)\n",
        "            df[\"label\"] = labels   # append labels\n",
        "            csv_path = os.path.join(out_dir, f\"NUSWIDE_view{i}.csv\")\n",
        "            df.to_csv(csv_path, index=False)\n",
        "            print(f\"Saved: {csv_path}\")\n",
        "\n",
        "\n",
        "        labels_df = pd.DataFrame(labels, columns=[\"label\"])\n",
        "        labels_path = os.path.join(out_dir, \"NUSWIDE_labels.csv\")\n",
        "        labels_df.to_csv(labels_path, index=False)\n",
        "        print(f\"Saved: {labels_path}\")\n",
        "\n",
        "    return data, labels\n",
        "\n"
      ],
      "metadata": {
        "id": "acxHsLCx8cIs"
      },
      "execution_count": 9,
      "outputs": []
    },
    {
      "cell_type": "code",
      "source": [
        "data, labels = load_multiview_mat('/content/NUS-WIDE.mat', verbose=True, save_csv=True)"
      ],
      "metadata": {
        "colab": {
          "base_uri": "https://localhost:8080/"
        },
        "id": "dOaTxnkO8nyT",
        "outputId": "7dda4a2b-4200-4c40-a5a5-29e382976f6e"
      },
      "execution_count": 10,
      "outputs": [
        {
          "output_type": "stream",
          "name": "stdout",
          "text": [
            "[scipy] keys: ['X', 'y']\n",
            "  view1 shape: (2400, 64)\n",
            "  view2 shape: (2400, 144)\n",
            "  view3 shape: (2400, 73)\n",
            "  view4 shape: (2400, 128)\n",
            "  view5 shape: (2400, 225)\n",
            "  labels shape: (2400,)\n",
            "Saved: /content/NUSWIDE_view1.csv\n",
            "Saved: /content/NUSWIDE_view2.csv\n",
            "Saved: /content/NUSWIDE_view3.csv\n",
            "Saved: /content/NUSWIDE_view4.csv\n",
            "Saved: /content/NUSWIDE_view5.csv\n",
            "Saved: /content/NUSWIDE_labels.csv\n"
          ]
        }
      ]
    },
    {
      "cell_type": "code",
      "source": [],
      "metadata": {
        "id": "MmalmAJu8smn"
      },
      "execution_count": null,
      "outputs": []
    }
  ]
}