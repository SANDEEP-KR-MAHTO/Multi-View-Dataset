{
  "nbformat": 4,
  "nbformat_minor": 0,
  "metadata": {
    "colab": {
      "provenance": []
    },
    "kernelspec": {
      "name": "python3",
      "display_name": "Python 3"
    },
    "language_info": {
      "name": "python"
    }
  },
  "cells": [
    {
      "cell_type": "code",
      "source": [],
      "metadata": {
        "id": "qFen3BH9pfAx"
      },
      "execution_count": 2,
      "outputs": []
    },
    {
      "cell_type": "code",
      "source": [
        "import pandas as pd\n",
        "import numpy as np\n",
        "from scipy.io import mmread\n",
        "\n",
        "# === Step 1: Load matrices ===\n",
        "content = mmread(\"texas_content.mtx\").tocsr()\n",
        "inbound = mmread(\"texas_inbound.mtx\").tocsr()\n",
        "outbound = mmread(\"texas_outbound.mtx\").tocsr()\n",
        "cites = mmread(\"texas_cites.mtx\").tocsr()\n",
        "\n",
        "print(\"Shapes:\")\n",
        "print(\"content:\", content.shape)\n",
        "print(\"inbound:\", inbound.shape)\n",
        "print(\"outbound:\", outbound.shape)\n",
        "print(\"cites:\", cites.shape)\n",
        "\n",
        "# === Step 2: Load labels ===\n",
        "labels = pd.read_csv(\"texas_act.txt\", header=None, sep=r\"\\s+\")[0].values  # document label indices\n",
        "label_names = pd.read_csv(\"labels.txt\", header=None)[0].values           # actual label names\n",
        "\n",
        "# Map numeric labels to text\n",
        "labels_text = [label_names[i-1] for i in labels]\n",
        "\n",
        "# === Step 3: Convert to DataFrames ===\n",
        "df_content = pd.DataFrame(content.toarray())\n",
        "df_content[\"label\"] = labels_text\n",
        "\n",
        "df_inbound = pd.DataFrame(inbound.toarray())\n",
        "df_inbound[\"label\"] = labels_text\n",
        "\n",
        "df_outbound = pd.DataFrame(outbound.toarray())\n",
        "df_outbound[\"label\"] = labels_text\n",
        "\n",
        "df_cites = pd.DataFrame(cites.toarray())\n",
        "df_cites[\"label\"] = labels_text\n",
        "\n",
        "# === Step 4: Save to CSV ===\n",
        "df_content.to_csv(\"texas_content.csv\", index=False)\n",
        "df_inbound.to_csv(\"texas_inbound.csv\", index=False)\n",
        "df_outbound.to_csv(\"texas_outbound.csv\", index=False)\n",
        "df_cites.to_csv(\"texas_cites.csv\", index=False)\n",
        "\n",
        "print(\"✅ Conversion complete! CSV files saved:\")\n",
        "print(\"texas_content.csv, texas_inbound.csv, texas_outbound.csv, texas_cites.csv\")\n"
      ],
      "metadata": {
        "colab": {
          "base_uri": "https://localhost:8080/"
        },
        "id": "v-1q4xVuq8FO",
        "outputId": "cad553bf-ba4f-4bc7-d1c6-c396d54d63ae"
      },
      "execution_count": 2,
      "outputs": [
        {
          "output_type": "stream",
          "name": "stdout",
          "text": [
            "Shapes:\n",
            "content: (187, 1703)\n",
            "inbound: (187, 187)\n",
            "outbound: (187, 187)\n",
            "cites: (187, 187)\n",
            "✅ Conversion complete! CSV files saved:\n",
            "texas_content.csv, texas_inbound.csv, texas_outbound.csv, texas_cites.csv\n"
          ]
        }
      ]
    },
    {
      "cell_type": "code",
      "source": [],
      "metadata": {
        "id": "IiDRwPr0n0QE"
      },
      "execution_count": null,
      "outputs": []
    }
  ]
}